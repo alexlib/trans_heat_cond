{
 "metadata": {
  "name": "",
  "signature": "sha256:137903c204e3d64b6ff2eb60bfa120e949ea43e381c9f438d27e82bc250283fa"
 },
 "nbformat": 3,
 "nbformat_minor": 0,
 "worksheets": [
  {
   "cells": [
    {
     "cell_type": "heading",
     "level": 1,
     "metadata": {},
     "source": [
      "Analytical Approach for 1D Transient Heat Conduction"
     ]
    },
    {
     "cell_type": "markdown",
     "metadata": {},
     "source": [
      "Under construction. More info coming soon..."
     ]
    },
    {
     "cell_type": "code",
     "collapsed": false,
     "input": [],
     "language": "python",
     "metadata": {},
     "outputs": []
    }
   ],
   "metadata": {}
  }
 ]
}