{
 "metadata": {
  "name": "",
  "signature": "sha256:2d7323699fc28447f65e629b89b834730182c3bebc47f144748e03e59bc402c4"
 },
 "nbformat": 3,
 "nbformat_minor": 0,
 "worksheets": [
  {
   "cells": [
    {
     "cell_type": "heading",
     "level": 1,
     "metadata": {},
     "source": [
      "Analytical Approach for 1D Transient Heat Conduction"
     ]
    },
    {
     "cell_type": "markdown",
     "metadata": {},
     "source": [
      "Plot the analytical solutions of 1D transient heat conduction in a solid sphere, cylinder, and slab with convection at the surface and no heat generation within the solid. The model depends on several user defined functions as listed below.\n",
      "\n",
      "*Requirements: Python 3, NumPy, SciPy, Matplotlib*\n",
      "\n",
      "[**Functions**](#Functions)  \n",
      "`funcTheta.py` returns theta (dimensionless temp) for sphere, cylinder, or slab  \n",
      "`funcRoots.py` returns the positive roots of the zeta, Bi equation  \n",
      "`funcZeta.py` contains the $\\zeta, Bi$ equations for sphere, cylinder, and slab shapes  \n",
      "Note that the theta function requires the roots and zeta functions: `funcTheta` $\\rightarrow$ `funcRoots` $\\rightarrow$ `funcZeta`\n",
      "\n",
      "[**Analytical Model**](#Analytical-Model)  \n",
      "`analytical.py` plots the surface and center temperature profiles for a solid sphere, cylinder, and slab wood particle at fast pyrolysis conditions"
     ]
    },
    {
     "cell_type": "heading",
     "level": 2,
     "metadata": {},
     "source": [
      "Functions"
     ]
    },
    {
     "cell_type": "markdown",
     "metadata": {},
     "source": [
      "Each function file is summarized below with more details available in the code comments. References are listed in the comments at the top of each function file."
     ]
    },
    {
     "cell_type": "heading",
     "level": 2,
     "metadata": {},
     "source": [
      "funcTheta.py"
     ]
    },
    {
     "cell_type": "markdown",
     "metadata": {},
     "source": [
      "Function to return the $\\theta$ (dimensionless temperature) profile at a certain dimensionless point ($r$) in a 1D solid sphere, cylinder, or slab shape. The $\\zeta$ values are positive roots of the $\\zeta, Bi$ equations. The Biot number is represented as $Bi = h r_o / k$ where $r_o$ is the center to surface distance. The Fourier number is given as $Fo = \\alpha t / r_o^2$. The $J_1$ and $J_0$ are Bessel functions of the first kind.\n",
      "\n",
      "$$\\theta = \\sum\\limits_{n=1}^\\infty C_n \\, exp(-\\zeta_n^2 \\, Fo) \\,D_n$$  \n",
      "\n",
      "$$\\text{slab:} \\quad\n",
      "C_n = \\frac{4\\, sin(\\zeta_n)}{2\\, \\zeta_n + sin(2\\, \\zeta_n)} \\quad\n",
      "D_n = cos(\\zeta_n \\,r) \\quad\n",
      "\\zeta_n\\, tan(\\zeta_n) = Bi$$  \n",
      "\n",
      "$$\\text{infinite cylinder:} \\quad\n",
      "C_n = \\frac{2}{\\zeta_n} \\frac{J_1(\\zeta_n)}{J_0^2(\\zeta_n)+J_1^2(\\zeta_n)} \\quad\n",
      "D_n = cos(\\zeta_n \\,r) \\quad\n",
      "\\zeta_n \\frac{J_1(\\zeta_n)}{J_0(\\zeta_n)} = Bi$$  \n",
      "\n",
      "$$\\text{sphere:} \\quad\n",
      "C_n = \\frac{4\\, [sin(\\zeta_n) - \\zeta_n\\, cos(\\zeta_n)]}{2\\, \\zeta_n - sin(2\\, \\zeta_n)} \\quad\n",
      "D_n = \\frac{1}{\\zeta_n\\, r}\\, sin(\\zeta_n\\, r) \\quad\n",
      "1 - \\zeta_n\\, cot(\\zeta_n) = Bi$$  \n"
     ]
    },
    {
     "cell_type": "code",
     "collapsed": false,
     "input": [
      "\"\"\"\n",
      "Function to return the theta (dimensionless temperature) profile at a certain \n",
      "dimensionless point (r) in a 1D solid sphere, cylinder, or slab shape.\n",
      "\n",
      "References: \n",
      "1) Recktenwald 2006\n",
      "2) Bergman, Lavine, Incropera, Dewitt 2011 from Ch. 5, pg.299-304\n",
      "\"\"\"\n",
      "\n",
      "# Modules and Other Required Functions\n",
      "#------------------------------------------------------------------------------\n",
      "\n",
      "import numpy as np\n",
      "import scipy.special as sp\n",
      "from funcRoots import roots\n",
      "\n",
      "# First and Second Terms of the Theta Function\n",
      "#------------------------------------------------------------------------------\n",
      "    \n",
      "def funcCn(root, b):\n",
      "    \"\"\"\n",
      "    First term in the theta function\n",
      "    root = root from the zeta, Bi equation\n",
      "    b = shape factor where 2 sphere, 1 cylinder, 0 slab\n",
      "    \"\"\"\n",
      "    if b == 2:\n",
      "        Cn = 4*(np.sin(root)-root*np.cos(root)) / (2*root-np.sin(2*root))\n",
      "    elif b == 1:\n",
      "        Cn = (2/root) * (sp.j1(root) / (sp.j0(root)**2 + sp.j1(root)**2))\n",
      "    elif b == 0:\n",
      "        Cn = (4*np.sin(root)) / (2*root + np.sin(2*root))\n",
      "    return Cn\n",
      "\n",
      "def funcDn(r, root, b):\n",
      "    \"\"\"\n",
      "    Second term in the theta function\n",
      "    root = root from the zeta, Bi equation\n",
      "    b = shape factor where 2 sphere, 1 cylinder, 0 slab\n",
      "    \"\"\"\n",
      "    if b == 2:\n",
      "        Dn = (1/(root*r)) * np.sin(root*r)\n",
      "    elif b == 1:\n",
      "        Dn = sp.j0(root * r)\n",
      "    elif b == 0:\n",
      "        Dn = np.cos(root * r)\n",
      "    return Dn\n",
      "\n",
      "# Theta Function\n",
      "#------------------------------------------------------------------------------\n",
      "\n",
      "def theta(r, b, z, Bi, Fo):\n",
      "    \"\"\"\n",
      "    Dimensionless temperature for analytical solution of 1D transient heat\n",
      "    conduction for a solid sphere, cylinder, or slab.\n",
      "    r = dimensionaless length term to evaluate theta, (-)\n",
      "    b = shape factor where 2 sphere or 1 cylinder or 0 slab, (-)\n",
      "    z = range of zeta values to evaluate zeta, Bi equation for positive roots\n",
      "    Bi = Biot number h*L/k, (-)\n",
      "    Fo = Fourier number alpha*t/L^2, (-)\n",
      "    \"\"\"\n",
      "    \n",
      "    rts = roots(z, b, Bi)   # positive roots of the zeta, Bi equation\n",
      "    n = len(rts)            # number of positive roots\n",
      "    \n",
      "    # initial dimensionless temperature at first root\n",
      "    theta = funcCn(rts[0], b)*np.exp(-rts[0]**2 * Fo)*funcDn(r, rts[0], b)\n",
      "    \n",
      "    # summation of theta for the remaining roots\n",
      "    for i in range(1, n):\n",
      "        dTheta_o = funcCn(rts[i], b)*np.exp(-rts[i]**2 * Fo)*funcDn(r, rts[i], b)\n",
      "        theta = theta + dTheta_o\n",
      "        \n",
      "    return theta    # theta temperature profile evaluated at r"
     ],
     "language": "python",
     "metadata": {},
     "outputs": [],
     "prompt_number": 14
    },
    {
     "cell_type": "heading",
     "level": 2,
     "metadata": {},
     "source": [
      "funcRoots.py"
     ]
    },
    {
     "cell_type": "markdown",
     "metadata": {},
     "source": [
      "This function returns the positive roots (eigenvalues) of the $\\zeta, Bi$ equation for a sphere, cylinder, or slab shape. The `funcRoots.py` function is required by the `funcTheta.py` function."
     ]
    },
    {
     "cell_type": "code",
     "collapsed": false,
     "input": [
      "\"\"\"\n",
      "Function that returns the positive roots of the zeta, Bi equation of the\n",
      "analytical solution for 1D transient heat conduction of a sphere, cylinder,\n",
      "or slab shape.\n",
      "\n",
      "References: \n",
      "1) Recktenwald 2006\n",
      "2) Bergman, Lavine, Incropera, Dewitt 2011 from Ch. 5, pg.299-304\n",
      "\"\"\"\n",
      "\n",
      "# Modules and Other Required Functions\n",
      "#------------------------------------------------------------------------------\n",
      "\n",
      "import numpy as np\n",
      "import scipy.optimize as op\n",
      "from funcZeta import funcZetaSph, funcZetaCyl, funcZetaSlab\n",
      "\n",
      "# Roots Function\n",
      "#------------------------------------------------------------------------------\n",
      "\n",
      "def roots(z, b, Bi):\n",
      "    \"\"\"\n",
      "    Returns a list of positive roots from zeta, Bi equation used for the\n",
      "    analytical solution of 1D transient heat conduction for a solid sphere,\n",
      "    cylinder, or slab shape.\n",
      "    z = range of zeta values to test for positive roots\n",
      "    b = shape factor where 2 sphere, 1 cylinder, 0 slab\n",
      "    Bi = Biot number h*L/k, (-)\n",
      "    \"\"\"\n",
      "    \n",
      "    if b==2:\n",
      "        fz = funcZetaSph(z, Bi)     # evaluate sphere function at z-values\n",
      "        func = funcZetaSph          # declare sphere function as roots function\n",
      "    elif b==1:\n",
      "        fz = funcZetaCyl(z, Bi)     # evaluate cylinder function at z-values\n",
      "        func = funcZetaCyl          # declare cylinder function as roots function\n",
      "    elif b==0:\n",
      "        fz = funcZetaSlab(z, Bi)    # evaluate slab function at the z-values\n",
      "        func = funcZetaSlab         # declare slab function as roots function\n",
      "    \n",
      "    # sign of values in fz as -/+ 1\n",
      "    sign = np.sign(fz)\n",
      "    \n",
      "    # calculate difference between fz values where a non-zero value indicates\n",
      "    # the location of a possible root of the function\n",
      "    diff = np.diff(sign)\n",
      "    \n",
      "    # b as the shape factor where 2 sphere, 1 cylinder, 0 slab\n",
      "    # use the np.where function to find array index of value change\n",
      "    # note that np.where returns a tuple\n",
      "    if b == 2 or b==0:\n",
      "        # location of sphere or slab roots\n",
      "        # find index of only positive value change thus ignoring singularities\n",
      "        where = np.where(diff>0)\n",
      "    elif b==1:\n",
      "        # location of cylinder roots\n",
      "        where = np.where(diff)\n",
      "    \n",
      "    roots = np.zeros(len(where[0])) # setup an empty array to store roots\n",
      "    \n",
      "    for i, j in enumerate(where[0]):\n",
      "        roots[i] = op.brentq(func, z[j], z[j+1], args=(Bi)) # roots for a given interval\n",
      "        \n",
      "    return roots    # return a list of the positive roots"
     ],
     "language": "python",
     "metadata": {},
     "outputs": [],
     "prompt_number": 15
    },
    {
     "cell_type": "heading",
     "level": 2,
     "metadata": {},
     "source": [
      "funcZeta.py"
     ]
    },
    {
     "cell_type": "markdown",
     "metadata": {},
     "source": [
      "This file contains the $\\zeta, Bi$ equations for a sphere, cylinder, and slab shape. The functions in `funcZeta.py` are required for the `funcRoots.py` function."
     ]
    },
    {
     "cell_type": "code",
     "collapsed": false,
     "input": [
      "\"\"\"\n",
      "Functions for zeta, Bi equation for sphere, cylinder, and slab cases for use in\n",
      "the 1D transient heat conduction analytical solution.\n",
      "\n",
      "sphere:   1-z*cot(z) = Bi         as f(z) = 1-z*cot(z)-Bi\n",
      "cylinder: z*(J1(z)/J0(z)) = Bi    as f(z) = z*J1(z)-Bi*J0(z)\n",
      "slab:     z*tan(z) = Bi           as f(z) = z*tan(z)-Bi\n",
      "\n",
      "Reference:\n",
      "Bergman, Lavine, Incropera, Dewitt 2011 from Ch. 5, pg.299-304\n",
      "\"\"\"\n",
      "\n",
      "# Modules\n",
      "#------------------------------------------------------------------------------\n",
      "\n",
      "import numpy as np\n",
      "import scipy.special as sp\n",
      "\n",
      "# Functions\n",
      "#------------------------------------------------------------------------------\n",
      "\n",
      "def funcZetaSph(z, Bi):\n",
      "    \"\"\"\n",
      "    zeta, Bi function for sphere as f(z) = 1 - z*cot(z) - Bi\n",
      "    z = zeta values which are later solved for the positive roots for theta\n",
      "    Bi = Biot number h*L/k, (-)\n",
      "    \"\"\"\n",
      "    f = 1 - z*(1 / np.tan(z)) - Bi\n",
      "    return f\n",
      "\n",
      "\n",
      "def funcZetaCyl(z, Bi):\n",
      "    \"\"\"\n",
      "    zeta, Bi function for cylinder as f(z) = z*J1(z) - Bi*J0(z)\n",
      "    note that J1 and J0 are bessel functions\n",
      "    z = zeta values which are later solved for the positive roots for theta\n",
      "    Bi = Biot number h*L/k, (-)\n",
      "    \"\"\"\n",
      "    f = z*sp.j1(z) - Bi*sp.j0(z)\n",
      "    return f\n",
      "    \n",
      "\n",
      "def funcZetaSlab(z, Bi):\n",
      "    \"\"\"\n",
      "    zeta, Bi function for slab as f(z) = z*tan(z) - Bi\n",
      "    z = zeta values which are later solved for the positive roots for theta\n",
      "    Bi = Biot number h*L/k, (-)\n",
      "    \"\"\"\n",
      "    f = z*np.tan(z) - Bi\n",
      "    return f"
     ],
     "language": "python",
     "metadata": {},
     "outputs": [],
     "prompt_number": 16
    },
    {
     "cell_type": "heading",
     "level": 2,
     "metadata": {},
     "source": [
      "Analytical Model"
     ]
    },
    {
     "cell_type": "markdown",
     "metadata": {},
     "source": [
      "The following is the main analytical model file to plot the surface and center temperature profiles of a solid wood particle represented as a 1D sphere, cylinder, or slab shape."
     ]
    },
    {
     "cell_type": "heading",
     "level": 2,
     "metadata": {},
     "source": [
      "analytical.py"
     ]
    },
    {
     "cell_type": "markdown",
     "metadata": {},
     "source": [
      "Plot the analytical solutions for 1D transient heat conduction of a wood particle undergoing fast pyrolysis. Temperature profiles are given for the particle surface (solid line) and center (dashed line). The ambient temperature is shown as a dashed black line."
     ]
    },
    {
     "cell_type": "code",
     "collapsed": false,
     "input": [
      "# create inline plots for this notebook\n",
      "%matplotlib inline"
     ],
     "language": "python",
     "metadata": {},
     "outputs": [],
     "prompt_number": 17
    },
    {
     "cell_type": "code",
     "collapsed": false,
     "input": [
      "\"\"\"\n",
      "Plot the analytical solutions of 1D transient heat conduction in a solid\n",
      "sphere, cylinder, and slab with convection at the surface and no heat\n",
      "generation within the solid.\n",
      "\n",
      "Requirements:\n",
      "Python 3, NumPy, SciPy, and Matplotlib\n",
      "\n",
      "Functions:\n",
      "funcTheta.py returns theta (dimensionless temp) for sphere, cylinder, or slab\n",
      "funcRoots.py returns the positive roots of the zeta, Bi equation\n",
      "funcZeta.py functions for zeta, Bi equation for sphere, cylinder, and slab\n",
      "funcTheta <- funcRoots <- funcZeta\n",
      "\n",
      "References: \n",
      "1) Recktenwald 2006\n",
      "2) Bergman, Lavine, Incropera, Dewitt 2011 from Ch. 5, pg.299-304\n",
      "3) Papadikis 2010a\n",
      "\"\"\"\n",
      "\n",
      "# Modules\n",
      "#------------------------------------------------------------------------------\n",
      "\n",
      "import numpy as np\n",
      "import matplotlib.pyplot as py\n",
      "from funcTheta import theta\n",
      "\n",
      "py.close('all')\n",
      "py.rcParams['figure.figsize'] = (8.0, 6.0)\n",
      "\n",
      "# Parameters from Papadikis 2010a Table 1\n",
      "#------------------------------------------------------------------------------\n",
      "\n",
      "rhow = 700      # density of biomass, 700 kg/m3\n",
      "d = 0.035e-2    # particle diameter for 350 um size, m\n",
      "cpw = 1500      # specific heat capacity biomass, J/(kg K)\n",
      "kw = 0.105      # thermal conductivity biomass, W/(m K)\n",
      "Ti = 300        # uniform initial temp of sphere, K\n",
      "Tinf = 773      # surrounding fluid or gas temp, K\n",
      "tmax = 1.0      # max time, s\n",
      "h = 375         # heat transfer coefficent, W/(m2 K)\n",
      "\n",
      "# Initial Calculations\n",
      "#------------------------------------------------------------------------------\n",
      "\n",
      "ro = (d/2)                          # radius of sphere (a.k.a outer radius), m\n",
      "rs = ro/ro                          # dimensionless surface radius, (-)\n",
      "rc = 1e-12/ro                       # dimensionless center radius, (-)\n",
      "\n",
      "alpha = kw/(rhow*cpw)               # thermal diffusivity biomass, m^2/s\n",
      "t = np.arange(0, tmax+0.002, 0.002) # time range for simulation, s\n",
      "z = np.arange(0, 1250, 0.1)         # range to evaluate the zeta, Bi equation\n",
      "\n",
      "Bi = (h*ro)/kw                      # Biot number, (-)\n",
      "Fo = (alpha * t) / (ro**2)          # Fourier number, (-)\n",
      "\n",
      "# Sphere Temperature Profiles\n",
      "#------------------------------------------------------------------------------\n",
      "\n",
      "b = 2   # shape factor where 2 sphere, 1 cylinder, 0 slab\n",
      "\n",
      "# surface temperature where ro for outer surface\n",
      "thetaRo = theta(rs, b, z, Bi, Fo)   # dimensionless temperature profile\n",
      "T_o = Tinf + thetaRo*(Ti-Tinf)      # convert theta to temperature in Kelvin, K\n",
      "\n",
      "# center temperature where r for center\n",
      "thetaR = theta(rc, b, z, Bi, Fo)    # dimensionless temperature profile\n",
      "T_r = Tinf + thetaR*(Ti-Tinf)       # convert theta to temperature in Kelvin, K\n",
      "\n",
      "# Cylinder Temperature Profiles\n",
      "#------------------------------------------------------------------------------\n",
      "\n",
      "b = 1   # shape factor where 2 sphere, 1 cylinder, 0 slab\n",
      "\n",
      "# surface temperature where ro for outer surface\n",
      "thetaRo = theta(rs, b, z, Bi, Fo)   # dimensionless temperature profile\n",
      "To_cyl = Tinf + thetaRo*(Ti-Tinf)   # convert theta to temperature in Kelvin, K\n",
      "\n",
      "# center temperature where r for center\n",
      "thetaR = theta(rc, b, z, Bi, Fo)    # dimensionless temperature profile\n",
      "Tr_cyl = Tinf + thetaR*(Ti-Tinf)    # convert theta to temperature in Kelvin, K\n",
      "\n",
      "# Slab Temperature Profile\n",
      "#------------------------------------------------------------------------------\n",
      "\n",
      "b = 0   # shape factor where 2 sphere, 1 cylinder, 0 slab\n",
      "\n",
      "# surface temperature where ro for outer surface\n",
      "thetaRo = theta(rs, b, z, Bi, Fo)   # dimensionless temperature profile\n",
      "To_slab = Tinf + thetaRo*(Ti-Tinf)  # convert theta to temperature in Kelvin, K\n",
      "\n",
      "# center temperature where r for center\n",
      "thetaR = theta(rc, b, z, Bi, Fo)    # dimensionless temperature profile\n",
      "Tr_slab = Tinf + thetaR*(Ti-Tinf)   # convert theta to temperature in Kelvin, K\n",
      "\n",
      "# Plot Results\n",
      "#------------------------------------------------------------------------------\n",
      "\n",
      "# configure y-axis based on cooling or heating simulation\n",
      "if Ti > Tinf:\n",
      "    # for a cooling process where Ti=773K and Tinf=300K\n",
      "    Th = Ti\n",
      "    ylim =[Ti+20, Tinf-20]\n",
      "else:\n",
      "    # for a heating process where Ti=300K and Tinf=773K\n",
      "    Th = Tinf\n",
      "    ylimRange = [Ti-20, Tinf+20]\n",
      "    \n",
      "py.figure(1)\n",
      "py.plot(t, T_o, '-r', lw=2, label='surface')\n",
      "py.plot(t, T_r, '--r', lw=2, label='center')\n",
      "py.title('Sphere')\n",
      "py.ylabel('Temperature (K)')\n",
      "py.xlabel('Time (s)')\n",
      "py.ylim(ylimRange)\n",
      "py.xlim([0, tmax])\n",
      "py.axhline(y=Th, color='k', linestyle='--', label=r'T$_\\infty$')\n",
      "py.rcParams['xtick.major.pad'] = 6\n",
      "py.rcParams['ytick.major.pad'] = 6\n",
      "py.legend(loc='best', numpoints=1)\n",
      "py.grid()\n",
      "py.show()\n",
      "\n",
      "py.figure(2)\n",
      "py.plot(t, To_cyl, '-b', lw=2, label='surface')\n",
      "py.plot(t, Tr_cyl, '--b', lw=2, label='center')\n",
      "py.title('Cylinder')\n",
      "py.ylabel('Temperature (K)')\n",
      "py.xlabel('Time (s)')\n",
      "py.ylim(ylimRange)\n",
      "py.xlim([0, tmax])\n",
      "py.axhline(y=Th, color='k', linestyle='--',label=r'T$_\\infty$')\n",
      "py.rcParams['xtick.major.pad'] = 6\n",
      "py.rcParams['ytick.major.pad'] = 6\n",
      "py.legend(loc='best', numpoints=1)\n",
      "py.grid()\n",
      "py.show()\n",
      "\n",
      "py.figure(3)\n",
      "py.plot(t, To_slab, '-g', lw=2, label='surface')\n",
      "py.plot(t, Tr_slab, '--g', lw=2, label='center')\n",
      "py.title('Slab')\n",
      "py.ylabel('Temperature (K)')\n",
      "py.xlabel('Time (s)')\n",
      "py.ylim(ylimRange)\n",
      "py.xlim([0, tmax])\n",
      "py.axhline(y=Th, color='k', linestyle='--', label=r'T$_\\infty$')\n",
      "py.rcParams['xtick.major.pad'] = 6\n",
      "py.rcParams['ytick.major.pad'] = 6\n",
      "py.legend(loc='best', numpoints=1)\n",
      "py.grid()\n",
      "py.show()"
     ],
     "language": "python",
     "metadata": {},
     "outputs": [
      {
       "metadata": {},
       "output_type": "display_data",
       "png": "[encoded data removed]",
       "text": [
        "<matplotlib.figure.Figure at 0x7fec8ba48400>"
       ]
      },
      {
       "metadata": {},
       "output_type": "display_data",
       "png": "[encoded data removed]",
       "text": [
        "<matplotlib.figure.Figure at 0x7fec8bee11d0>"
       ]
      },
      {
       "metadata": {},
       "output_type": "display_data",
       "png": "[encoded data removed]",
       "text": [
        "<matplotlib.figure.Figure at 0x7fec8b93a4e0>"
       ]
      }
     ],
     "prompt_number": 18
    },
    {
     "cell_type": "heading",
     "level": 2,
     "metadata": {},
     "source": [
      "References"
     ]
    },
    {
     "cell_type": "markdown",
     "metadata": {},
     "source": [
      "Bergman, T.L. et al., 2011. *Fundamentals of Heat and Mass Transfer 7th ed*, John Wiley and Sons, Inc.  \n",
      "\n",
      "Recktenwald, G., 2006. *Transient One-Dimensional Heat Conduction in a Convectively Cooled Sphere*, pp.1\u201313.  \n",
      "\n",
      "Papadikis, K., Gu, S. and Bridgwater, A.V., 2010. *Computational modelling of the impact of particle size to the heat transfer coefficient between biomass particles and a fluidised bed*. Fuel Processing Technology, 91(1), pp.68\u201379.  \n"
     ]
    },
    {
     "cell_type": "markdown",
     "metadata": {},
     "source": [
      "[Back to top...](#Analytical-Approach-for-1D-Transient-Heat-Conduction)"
     ]
    },
    {
     "cell_type": "code",
     "collapsed": false,
     "input": [
      "from IPython.core.display import HTML\n",
      "css_file = '../styles.css'\n",
      "HTML(open(css_file, \"r\").read())"
     ],
     "language": "python",
     "metadata": {},
     "outputs": [
      {
       "html": [
        "<style>\n",
        "\n",
        "div.text_cell_render {\n",
        "    width: 800px;\n",
        "}\n",
        "\n",
        "div.text_cell_render p {\n",
        "    font-size: 12pt;\n",
        "    line-height: 18pt;\n",
        "}\n",
        "\n",
        "</style>\n"
       ],
       "metadata": {},
       "output_type": "pyout",
       "prompt_number": 19,
       "text": [
        "<IPython.core.display.HTML at 0x7fec8b808b38>"
       ]
      }
     ],
     "prompt_number": 19
    }
   ],
   "metadata": {}
  }
 ]
}